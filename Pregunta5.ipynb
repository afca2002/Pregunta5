{
  "nbformat": 4,
  "nbformat_minor": 0,
  "metadata": {
    "colab": {
      "provenance": []
    },
    "kernelspec": {
      "name": "python3",
      "display_name": "Python 3"
    },
    "language_info": {
      "name": "python"
    }
  },
  "cells": [
    {
      "cell_type": "code",
      "execution_count": 1,
      "metadata": {
        "id": "_LxWFzfj5jnt"
      },
      "outputs": [],
      "source": [
        "def secant_method(f, x0, x1, tol=1e-6, max_iter=100):\n",
        "    x_prev = x0\n",
        "    x_curr = x1\n",
        "    iter_count = 0\n",
        "\n",
        "    while abs(f(x_curr)) > tol and iter_count < max_iter:\n",
        "        # Calculate the next approximation using the secant method formula\n",
        "        x_next = x_curr - f(x_curr) * (x_curr - x_prev) / (f(x_curr) - f(x_prev))\n",
        "\n",
        "        # Update variables for the next iteration\n",
        "        x_prev = x_curr\n",
        "        x_curr = x_next\n",
        "        iter_count += 1\n",
        "\n",
        "    return x_curr, iter_count"
      ]
    },
    {
      "cell_type": "code",
      "source": [
        "i = 0\n",
        "\n",
        "\n",
        "def func(x):\n",
        "    global i\n",
        "    i += 1\n",
        "    y = x**3 - 3 * x**2 + x - 1\n",
        "    print(f\"Llamada i={i}\\t x={x:.5f}\\t y={y:.2f}\")\n",
        "    return y\n",
        "\n",
        "\n",
        "secant_method(func, x0=2, x1=3)"
      ],
      "metadata": {
        "colab": {
          "base_uri": "https://localhost:8080/"
        },
        "id": "UsSY6ZN66P1M",
        "outputId": "565c8d85-b110-4efe-fb1d-623a7e551cd3"
      },
      "execution_count": 2,
      "outputs": [
        {
          "output_type": "stream",
          "name": "stdout",
          "text": [
            "Llamada i=1\t x=3.00000\t y=2.00\n",
            "Llamada i=2\t x=3.00000\t y=2.00\n",
            "Llamada i=3\t x=3.00000\t y=2.00\n",
            "Llamada i=4\t x=2.00000\t y=-3.00\n",
            "Llamada i=5\t x=2.60000\t y=-1.10\n",
            "Llamada i=6\t x=2.60000\t y=-1.10\n",
            "Llamada i=7\t x=2.60000\t y=-1.10\n",
            "Llamada i=8\t x=3.00000\t y=2.00\n",
            "Llamada i=9\t x=2.74227\t y=-0.20\n",
            "Llamada i=10\t x=2.74227\t y=-0.20\n",
            "Llamada i=11\t x=2.74227\t y=-0.20\n",
            "Llamada i=12\t x=2.60000\t y=-1.10\n",
            "Llamada i=13\t x=2.77296\t y=0.03\n",
            "Llamada i=14\t x=2.77296\t y=0.03\n",
            "Llamada i=15\t x=2.77296\t y=0.03\n",
            "Llamada i=16\t x=2.74227\t y=-0.20\n",
            "Llamada i=17\t x=2.76922\t y=-0.00\n",
            "Llamada i=18\t x=2.76922\t y=-0.00\n",
            "Llamada i=19\t x=2.76922\t y=-0.00\n",
            "Llamada i=20\t x=2.77296\t y=0.03\n",
            "Llamada i=21\t x=2.76929\t y=-0.00\n",
            "Llamada i=22\t x=2.76929\t y=-0.00\n",
            "Llamada i=23\t x=2.76929\t y=-0.00\n",
            "Llamada i=24\t x=2.76922\t y=-0.00\n",
            "Llamada i=25\t x=2.76929\t y=0.00\n"
          ]
        },
        {
          "output_type": "execute_result",
          "data": {
            "text/plain": [
              "(2.7692923542484045, 6)"
            ]
          },
          "metadata": {},
          "execution_count": 2
        }
      ]
    },
    {
      "cell_type": "markdown",
      "source": [
        "# CODIGO OPTIMIZADO"
      ],
      "metadata": {
        "id": "-IEB03Fb8ZgU"
      }
    },
    {
      "cell_type": "code",
      "source": [
        "def secant_method(f, x0, x1, tol=1e-6, max_iter=100):\n",
        "    x_prev = x0\n",
        "    x_curr = x1\n",
        "    iter_count = 0\n",
        "\n",
        "    f_prev = f(x_prev)\n",
        "    f_curr = f(x_curr)\n",
        "\n",
        "    while abs(f_curr) > tol and iter_count < max_iter:\n",
        "        # Calcular\n",
        "        x_next = x_curr - f_curr * (x_curr - x_prev) / (f_curr - f_prev)\n",
        "\n",
        "        # Actualizar\n",
        "        x_prev = x_curr\n",
        "        x_curr = x_next\n",
        "\n",
        "        # Recalcular\n",
        "        f_prev = f_curr\n",
        "        f_curr = f(x_curr)\n",
        "\n",
        "        iter_count += 1\n",
        "\n",
        "    return x_curr, iter_count\n",
        "\n",
        "\n",
        "# Función de ejemplo\n",
        "i = 0\n",
        "def func(x):\n",
        "    global i\n",
        "    i += 1\n",
        "    y = x**3 - 3 * x**2 + x - 1\n",
        "    print(f\"Llamada i={i}\\t x={x:.5f}\\t y={y:.2f}\")\n",
        "    return y\n",
        "\n",
        "# Llamada al método\n",
        "result, iterations = secant_method(func, x0=2, x1=3)\n",
        "print(f\"\\nResultado: x = {result:.6f}, Iteraciones = {iterations}\")\n"
      ],
      "metadata": {
        "colab": {
          "base_uri": "https://localhost:8080/"
        },
        "id": "Y0673f2w8GeF",
        "outputId": "2de96993-61c0-4060-d828-7723e8638458"
      },
      "execution_count": 3,
      "outputs": [
        {
          "output_type": "stream",
          "name": "stdout",
          "text": [
            "Llamada i=1\t x=2.00000\t y=-3.00\n",
            "Llamada i=2\t x=3.00000\t y=2.00\n",
            "Llamada i=3\t x=2.60000\t y=-1.10\n",
            "Llamada i=4\t x=2.74227\t y=-0.20\n",
            "Llamada i=5\t x=2.77296\t y=0.03\n",
            "Llamada i=6\t x=2.76922\t y=-0.00\n",
            "Llamada i=7\t x=2.76929\t y=-0.00\n",
            "Llamada i=8\t x=2.76929\t y=0.00\n",
            "\n",
            "Resultado: x = 2.769292, Iteraciones = 6\n"
          ]
        }
      ]
    }
  ]
}